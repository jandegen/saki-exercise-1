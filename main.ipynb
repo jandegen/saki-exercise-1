{
 "cells": [
  {
   "cell_type": "markdown",
   "metadata": {
    "collapsed": true,
    "pycharm": {
     "name": "#%% md\n"
    }
   },
   "source": [
    "# Software-Anwendungen mit KI\n",
    "\n",
    "## Exercise 1 - Transaction Classification\n",
    "\n",
    "### Challenge\n",
    "For a given set of financial transactions, classify each one into one of seven revenue (transaction) categories; the categories are\n",
    " - Income\n",
    " - Private (cash, deposit, donation, presents)\n",
    " - Living (rent, additional flat expenses, ...)\n",
    " - Standard of living (food, health, children, ...)\n",
    " - Finance (credit, bank costs, insurances, savings)\n",
    " - Traffic (public transport, gas stations, bike, car rent, ...)\n",
    " - Leisure (hobby, sport, vacation, shopping, ...)\n",
    "\n",
    "### Approach\n",
    "Using a generic naive Bayes Classifier to implement a transaction classifier\n",
    "\n",
    "### Data Source\n",
    "Proprietary transaction data is provided by external source.\n",
    "\n",
    "### Technology\n",
    "#### Programming technology\n",
    "Python 3.6, Jupyter notebook\n",
    "#### Framework\n",
    "Scikit-learn\n",
    "\n"
   ]
  },
  {
   "cell_type": "markdown",
   "source": [
    "# Data Preparation"
   ],
   "metadata": {
    "collapsed": false
   }
  },
  {
   "cell_type": "markdown",
   "source": [
    "# Data Labeling\n"
   ],
   "metadata": {
    "collapsed": false,
    "pycharm": {
     "name": "#%% md\n"
    }
   }
  },
  {
   "cell_type": "markdown",
   "source": [
    "# Data Labeling"
   ],
   "metadata": {
    "collapsed": false
   }
  },
  {
   "cell_type": "markdown",
   "source": [
    "# Feature Definition"
   ],
   "metadata": {
    "collapsed": false
   }
  },
  {
   "cell_type": "markdown",
   "source": [
    "# Feature Extraction"
   ],
   "metadata": {
    "collapsed": false
   }
  },
  {
   "cell_type": "markdown",
   "source": [
    "# Model Training"
   ],
   "metadata": {
    "collapsed": false
   }
  },
  {
   "cell_type": "markdown",
   "source": [
    "# Model Evaluation"
   ],
   "metadata": {
    "collapsed": false
   }
  },
  {
   "cell_type": "markdown",
   "source": [
    "# Result Visualization"
   ],
   "metadata": {
    "collapsed": false
   }
  },
  {
   "cell_type": "code",
   "execution_count": null,
   "outputs": [],
   "source": [],
   "metadata": {
    "collapsed": false,
    "pycharm": {
     "name": "#%%\n"
    }
   }
  },
  {
   "cell_type": "markdown",
   "source": [],
   "metadata": {
    "collapsed": false
   }
  }
 ],
 "metadata": {
  "kernelspec": {
   "display_name": "Python 3",
   "language": "python",
   "name": "python3"
  },
  "language_info": {
   "codemirror_mode": {
    "name": "ipython",
    "version": 2
   },
   "file_extension": ".py",
   "mimetype": "text/x-python",
   "name": "python",
   "nbconvert_exporter": "python",
   "pygments_lexer": "ipython2",
   "version": "2.7.6"
  }
 },
 "nbformat": 4,
 "nbformat_minor": 0
}