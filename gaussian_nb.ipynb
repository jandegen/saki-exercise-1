{
 "cells": [
  {
   "cell_type": "code",
   "execution_count": 127,
   "metadata": {
    "collapsed": true
   },
   "outputs": [
    {
     "name": "stderr",
     "output_type": "stream",
     "text": [
      "[nltk_data] Downloading package punkt to\n",
      "[nltk_data]     C:\\Users\\jande\\AppData\\Roaming\\nltk_data...\n",
      "[nltk_data]   Package punkt is already up-to-date!\n",
      "[nltk_data] Downloading package stopwords to\n",
      "[nltk_data]     C:\\Users\\jande\\AppData\\Roaming\\nltk_data...\n",
      "[nltk_data]   Package stopwords is already up-to-date!\n"
     ]
    }
   ],
   "source": [
    "######## Import of necessary packages ########\n",
    "# CountVectorizer for creating the BoW matrix\n",
    "from sklearn.feature_extraction.text import CountVectorizer\n",
    "\n",
    "# Cross validation for model evaluation\n",
    "from sklearn.model_selection import cross_val_score, train_test_split\n",
    "\n",
    "# Pandas for dataset preparation\n",
    "import pandas as pd\n",
    "\n",
    "# GaussianNB as Naive Bayes implementation for model\n",
    "from sklearn.naive_bayes import GaussianNB\n",
    "\n",
    "import re\n",
    "\n",
    "# Import stopwords word_tokenize from Natural Language Toolkit for cleaning the text columns of the dataset and splitting sentences into single words\n",
    "import nltk\n",
    "from nltk.corpus import stopwords\n",
    "##############################################\n",
    "\n",
    "\n",
    "# Definition of column names of the dataset\n",
    "from sklearn.preprocessing import MinMaxScaler\n",
    "\n",
    "columnname_account = 'Auftragskonto'\n",
    "columnname_orderdate = 'Buchungstag'\n",
    "columnname_valutadate = 'Valutadatum'\n",
    "columnname_usage = 'Verwendungszweck'\n",
    "columnname_text = 'Buchungstext'\n",
    "columnname_target_sender = 'Beguenstigter/Zahlungspflichtiger'\n",
    "columnname_depotnumber = 'Kontonummer'\n",
    "columnname_blz = 'BLZ'\n",
    "columnname_amount = 'Betrag'\n",
    "columnname_currency = 'Waehrung'\n",
    "columnname_label = 'label'\n",
    "\n",
    "# Definition of the the column names for the training dataframe\n",
    "columnname_final_messages = 'messages'\n",
    "columnname_final_class = 'class'\n",
    "\n",
    "dataset_file = \"dataset.csv\"\n",
    "dataset_separator = \";\"\n",
    "\n",
    "# Percentage of the training set size based on the dataset size\n",
    "training_set_size = 0.8\n",
    "\n",
    "nltk.download('punkt')\n",
    "nltk.download('stopwords')\n",
    "\n",
    "# Set displayed rows\n",
    "pd.set_option('display.max_rows', 10)\n",
    "\n",
    "general_bag_of_words = list()"
   ]
  },
  {
   "cell_type": "markdown",
   "source": [
    "# Data Load"
   ],
   "metadata": {
    "collapsed": false,
    "pycharm": {
     "name": "#%% md\n"
    }
   }
  },
  {
   "cell_type": "code",
   "execution_count": 128,
   "outputs": [
    {
     "name": "stdout",
     "output_type": "stream",
     "text": [
      "Complete dataset size: 209\n"
     ]
    }
   ],
   "source": [
    "data = pd.read_csv(dataset_file, sep=dataset_separator)\n",
    "print(\"Complete dataset size: \" +str(len(data)))"
   ],
   "metadata": {
    "collapsed": false,
    "pycharm": {
     "name": "#%%\n"
    }
   }
  },
  {
   "cell_type": "markdown",
   "source": [
    "## Raw Data Shape"
   ],
   "metadata": {
    "collapsed": false,
    "pycharm": {
     "name": "#%% md\n"
    }
   }
  },
  {
   "cell_type": "code",
   "execution_count": 129,
   "outputs": [
    {
     "name": "stdout",
     "output_type": "stream",
     "text": [
      "####################### Raw Data #######################\n",
      "                     0  Null Values  count          mean        std  \\\n",
      "Unnamed: 0       int64            0  209.0  1.040000e+02  60.477268   \n",
      "Auftragskonto  float64           41  168.0  8.999021e+07   4.077940   \n",
      "Buchungstag     object            0    NaN           NaN        NaN   \n",
      "Valutadatum     object            0    NaN           NaN        NaN   \n",
      "Buchungstext    object            0    NaN           NaN        NaN   \n",
      "...                ...          ...    ...           ...        ...   \n",
      "Kontonummer     object            1    NaN           NaN        NaN   \n",
      "BLZ             object            1    NaN           NaN        NaN   \n",
      "Betrag          object            0    NaN           NaN        NaN   \n",
      "Waehrung        object            0    NaN           NaN        NaN   \n",
      "label           object            0    NaN           NaN        NaN   \n",
      "\n",
      "                      min         25%         50%         75%         max  \n",
      "Unnamed: 0            0.0        52.0       104.0       156.0       208.0  \n",
      "Auftragskonto  89990201.0  89990201.0  89990210.0  89990210.0  89990210.0  \n",
      "Buchungstag           NaN         NaN         NaN         NaN         NaN  \n",
      "Valutadatum           NaN         NaN         NaN         NaN         NaN  \n",
      "Buchungstext          NaN         NaN         NaN         NaN         NaN  \n",
      "...                   ...         ...         ...         ...         ...  \n",
      "Kontonummer           NaN         NaN         NaN         NaN         NaN  \n",
      "BLZ                   NaN         NaN         NaN         NaN         NaN  \n",
      "Betrag                NaN         NaN         NaN         NaN         NaN  \n",
      "Waehrung              NaN         NaN         NaN         NaN         NaN  \n",
      "label                 NaN         NaN         NaN         NaN         NaN  \n",
      "\n",
      "[12 rows x 10 columns]\n"
     ]
    }
   ],
   "source": [
    "print(\"####################### Raw Data #######################\")\n",
    "data_raw_summary = pd.DataFrame(data.dtypes)\n",
    "data_raw_statistics = data.describe().transpose()\n",
    "data_raw_summary[\"Null Values\"] = data.isnull().sum()\n",
    "data_raw_summary = pd.concat([data_raw_summary,data_raw_statistics], axis=1)\n",
    "print(data_raw_summary)"
   ],
   "metadata": {
    "collapsed": false,
    "pycharm": {
     "name": "#%%\n"
    }
   }
  },
  {
   "cell_type": "markdown",
   "source": [
    "## Data Preparation"
   ],
   "metadata": {
    "collapsed": false,
    "pycharm": {
     "name": "#%% md\n"
    }
   }
  },
  {
   "cell_type": "code",
   "execution_count": 130,
   "outputs": [
    {
     "name": "stdout",
     "output_type": "stream",
     "text": [
      "Starting preparation of data...\n",
      "Preparing data...\n",
      "Preparing text featues...\n"
     ]
    }
   ],
   "source": [
    "def removePunctuationAndSpecialCharacters(text):\n",
    "    return text.replace('.', '').replace('&', '').replace(':', '')\n",
    "\n",
    "def removeSpecialWords(text):\n",
    "    # Remove End-to-End-Ref\n",
    "    text = text.replace('end-to-end-ref', ' ')\n",
    "    # Remove NotProvided\n",
    "    text = text.replace('notprovided ', ' ')\n",
    "    # Remove NSCT numbers via regex\n",
    "    text = re.sub(r'nsct\\d*', ' ', text)\n",
    "    return text\n",
    "\n",
    "# Remove unnecessary text contents like punctuation, stopwords and text with no valuable information\n",
    "def transform_text(text):\n",
    "    text = text.lower()\n",
    "    text = removePunctuationAndSpecialCharacters(text)\n",
    "    text = removeSpecialWords(text)\n",
    "    words = nltk.word_tokenize(text, language=\"german\")\n",
    "    for word in words:\n",
    "        if word in stopwords.words('german'):\n",
    "            words.remove(word)\n",
    "        if word not in general_bag_of_words:\n",
    "            general_bag_of_words.append(word)\n",
    "    return \" \".join(words)\n",
    "\n",
    "# Vectorize a given text and count the occurence of words\n",
    "def vectorize(prepared_text):\n",
    "    vectorizer = CountVectorizer()\n",
    "    X = vectorizer.fit_transform(prepared_text).toarray()\n",
    "    topics = vectorizer.get_feature_names()\n",
    "    return pd.DataFrame(data=X, columns=topics)\n",
    "\n",
    "# Prepare basic data\n",
    "def prepare_data (dataset):\n",
    "    print(\"Preparing data...\")\n",
    "    prepared = dataset\n",
    "    prepared = prepared.fillna(0) # Fill NULL values with 0\n",
    "\n",
    "    #Transform columns to numerical values\n",
    "    prepared[columnname_account] = dataset[columnname_account].astype('category')\n",
    "    prepared[columnname_account] = prepared[columnname_account].cat.codes\n",
    "\n",
    "    prepared[columnname_blz] = dataset[columnname_blz].astype('category')\n",
    "    prepared[columnname_blz] = prepared[columnname_blz].cat.codes\n",
    "\n",
    "    prepared[columnname_text] = dataset[columnname_text].astype('category')\n",
    "    prepared[columnname_text] = prepared[columnname_text].cat.codes\n",
    "\n",
    "    prepared[columnname_depotnumber] = dataset[columnname_depotnumber].astype('category')\n",
    "    prepared[columnname_depotnumber] = prepared[columnname_depotnumber].cat.codes\n",
    "\n",
    "    prepared[columnname_currency] = dataset[columnname_currency].astype('category')\n",
    "    prepared[columnname_currency] = prepared[columnname_currency].cat.codes\n",
    "\n",
    "    prepared[columnname_orderdate] = pd.to_datetime(prepared[columnname_orderdate])\n",
    "    prepared[columnname_valutadate] = pd.to_datetime(prepared[columnname_valutadate])\n",
    "\n",
    "    # Normalize the \"Betrag\" feature via MinMax\n",
    "    prepared[columnname_amount] = prepared[columnname_amount].str.replace(',','.')\n",
    "    prepared[columnname_amount] = prepared[columnname_amount].astype('float')\n",
    "    mm_scaler = MinMaxScaler(feature_range=(0, 1))\n",
    "    prepared[columnname_amount] = mm_scaler.fit_transform(prepared[[columnname_amount]].values)\n",
    "\n",
    "    return prepared\n",
    "\n",
    "# Prepare the text features\n",
    "def prepare_text_data(dataset):\n",
    "    print(\"Preparing text featues...\")\n",
    "    usage = dataset[columnname_usage].apply(transform_text)\n",
    "    target_sender = dataset[columnname_target_sender].apply(transform_text)\n",
    "\n",
    "    dataframe_usage = vectorize(usage)\n",
    "    dataframe_targetsender = vectorize(target_sender)\n",
    "\n",
    "    return pd.concat([dataframe_usage, dataframe_targetsender], axis=1)\n",
    "\n",
    "# This will produce a complete prepared dataframe which can be used for training or also for prediction\n",
    "def run_complete_prepare(dataset):\n",
    "    print(\"Starting preparation of data...\")\n",
    "    prepared_data = prepare_data(dataset)\n",
    "    text_data = prepare_text_data(prepared_data)\n",
    "\n",
    "    # Remove text features as we use the results from the count vectorizer, also the Id is not required\n",
    "    prepared_data = prepared_data.drop([\"Unnamed: 0\", columnname_usage, columnname_target_sender], axis=1)\n",
    "\n",
    "    final_Data = pd.concat([prepared_data, text_data], axis=1)\n",
    "    final_Data = final_Data.loc[:,~final_Data.columns.duplicated()] # Remove duplicates from dataset\n",
    "    print(\"Prepared data!\")\n",
    "    return final_Data\n",
    "\n",
    "data_final = run_complete_prepare(data)"
   ],
   "metadata": {
    "collapsed": false,
    "pycharm": {
     "name": "#%%\n"
    }
   }
  },
  {
   "cell_type": "markdown",
   "source": [
    "## Prepared Data Statistics"
   ],
   "metadata": {
    "collapsed": false,
    "pycharm": {
     "name": "#%% md\n"
    }
   }
  },
  {
   "cell_type": "code",
   "execution_count": 131,
   "outputs": [
    {
     "name": "stdout",
     "output_type": "stream",
     "text": [
      "Preparing data...\n",
      "Preparing text featues...\n",
      "\n",
      "#################### Prepared Data #####################\n",
      "                            0  Null Values  count       mean        std  min  \\\n",
      "Auftragskonto            int8           41  209.0   0.377990   0.794024 -1.0   \n",
      "Buchungstag    datetime64[ns]            0    NaN        NaN        NaN  NaN   \n",
      "Valutadatum    datetime64[ns]            0    NaN        NaN        NaN  NaN   \n",
      "Buchungstext             int8            0  209.0   7.406699   2.784254  0.0   \n",
      "Kontonummer              int8            1  209.0  17.464115  16.175715 -1.0   \n",
      "BLZ                      int8            1  209.0  15.622010  14.501183 -1.0   \n",
      "Betrag                float64            0  209.0   0.626572   0.102435  0.0   \n",
      "Waehrung                 int8            0  209.0   0.000000   0.000000  0.0   \n",
      "label                  object            0    NaN        NaN        NaN  NaN   \n",
      "\n",
      "                    25%        50%        75%   max  \n",
      "Auftragskonto  0.000000   1.000000   1.000000   1.0  \n",
      "Buchungstag         NaN        NaN        NaN   NaN  \n",
      "Valutadatum         NaN        NaN        NaN   NaN  \n",
      "Buchungstext   7.000000   8.000000   9.000000  13.0  \n",
      "Kontonummer    2.000000  13.000000  31.000000  52.0  \n",
      "BLZ            2.000000  15.000000  27.000000  39.0  \n",
      "Betrag         0.613555   0.622464   0.624474   1.0  \n",
      "Waehrung       0.000000   0.000000   0.000000   0.0  \n",
      "label               NaN        NaN        NaN   NaN  \n",
      "\n",
      "################### Text Statistics ####################\n",
      "                 0  Null Values  count      mean       std  min  25%  50%  \\\n",
      "00           int64          NaN  209.0  0.253589  0.526051  0.0  0.0  0.0   \n",
      "0000000000   int64          NaN  209.0  0.162679  0.369959  0.0  0.0  0.0   \n",
      "001          int64          NaN  209.0  0.009569  0.097588  0.0  0.0  0.0   \n",
      "0084632      int64          NaN  209.0  0.004785  0.069171  0.0  0.0  0.0   \n",
      "00eur0       int64          NaN  209.0  0.100478  0.301359  0.0  0.0  0.0   \n",
      "...            ...          ...    ...       ...       ...  ...  ...  ...   \n",
      "vielen       int64          NaN  209.0  0.004785  0.069171  0.0  0.0  0.0   \n",
      "vr           int64          NaN  209.0  0.004785  0.069171  0.0  0.0  0.0   \n",
      "wuerzburger  int64          NaN  209.0  0.004785  0.069171  0.0  0.0  0.0   \n",
      "zalando      int64          NaN  209.0  0.014354  0.119231  0.0  0.0  0.0   \n",
      "zdf          int64          NaN  209.0  0.004785  0.069171  0.0  0.0  0.0   \n",
      "\n",
      "             75%  max  \n",
      "00           0.0  2.0  \n",
      "0000000000   0.0  1.0  \n",
      "001          0.0  1.0  \n",
      "0084632      0.0  1.0  \n",
      "00eur0       0.0  1.0  \n",
      "...          ...  ...  \n",
      "vielen       0.0  1.0  \n",
      "vr           0.0  1.0  \n",
      "wuerzburger  0.0  1.0  \n",
      "zalando      0.0  1.0  \n",
      "zdf          0.0  1.0  \n",
      "\n",
      "[470 rows x 10 columns]\n",
      "\n",
      "##################### Overall BoW ######################\n",
      "['gehalt', 'adorsys', 'gmbh', 'co', 'kg', 'kundenreferenz', 'gutschrift', 'byladem1sbt', 'de12773501123456789889', 'miete', 'beuthener', 'str', '25', 'dauerauftrag', '2107/1634uhr', 'nuernberg', 'all', 'eur', '70,00', 'gebeur', '0,00', 'einzahlung/auszahlung', 'ga', 'nr55508568', 'blz76010085', '9', '2831', 'edeka', 'neubauer', 'nuernb//nuernb', '2016-07-20t175445', 'kfn', 'vj', '1612', 'lastschrift', 'amazon', 'mietzuschuss', '2016-05-09t175445', 'dm', 'fil1137', 'h65128//nuernberg/de', '2', '016-04-19t170343folgenr001', 'verf', 'alld2020', '-12', 'ccbade31xxx', 'de71310108339900123456', 'sparen', '1602/1634uhr', '2016-05-10t175445', '016-02-16t170343folgenr001', '2016-05-04t175445', '2016-06-02t175445', '016-06-01t170343folgenr001', '0106/1634uhr', 'ssknde77xxx', 'de41760501010012345675', 'einmalsparen', 'ccb91ue162146', 'ueberweisung', '1904/1634uhr', 'spdude68xxx', '2016-03-15t175445', 'bears', '+', 'friends', 'gmb/verfa', 'lld2016-12', 'verfa', 'pulsnitz', 'elv56006915', '0804', '1535', 'me1rewe', 'sa', 'gt', 'danke', '46400517', 'tk', 'maxx', 'nuernberg//nuernberg/de', '201', '6-04-02t135208', 'folgenr001', 'verfal', 'ld2020-12', 'visa62185021800-279-6620', '535,00eur0,0000000000', '3103', '10355999', 'gmb//pulsnitz/de', '20', '16-01-02t141806', 'folgenr000', 'visa6218502106060876', '20,00eur0,0000000000', '0404', '20,00', '10316011', 'abonnement', 'kd-nr', '5104489', 'visa62185021senningerberg', '24,30eur0,0000000000', '0104', '10355499', '3,84eur0,0000000000', '12,99eur0,0000000000', '3003', '10355942', 'haushalt', 'urlaub', 'abschlag', 'strom', '04/16', 'vk', '122721405', 'gruenstrom', 'classic', 'abschluss', 'bp1821187056/3814', '50,00eur0,0000000000', '2503', '50,00', 'aramark', 'gmbh//nuernberg/de', '2016-03-', '24t123012', 'verfalld20', '20-12', '230320211004393201252017040elv6520', '1704', '2303', '2021', 'm', 'e1', '2103', '1610', 'k358853507/', 'rg-nr', '150257651', '551', '016-03-19t170343folgenr001', 'celona', '2016', '-03-19t152252', 'verfall', 'd2020-12', '100,00eur0,0000000000', '1703', '100,00', '33,73eur0,0000000000', '1403', '14t120436', 'elv56006914', '1203', '1942', 'gas', '03/16', '220200215414', 'elv66021447', '1730', 'me11', 'california//nuernberg/de', '2016-03-12', 't190455', 'verfalld2020', '40,00eur0,0000000000', '0903', '40,00', 'esso', 'deutschland', '2016-03-09t070435', 've', 'rfalld2020-12', 'geschenk', 'doris', '04032016', '350193', 'horst', 'dietrich', '8324', 'reit', 'im', 'ref', 'intersport', 'rent//reit', '016-03-05t095727folgenr001', 'interne', 'umbuchung', '03t123304', 'rse', 'gastro', 'gmbh//roethenbach/de', '6-03-02t220220', '0103', '1954', '2902', '52,42eur0,0000000000', '2702', 'visa62185021amazonde', '7,54eur0,0000000000', '2602', '10355969', 'omv', '7540//nuernberg/de', '16-02-26t151734', 'lld2020-12', 'mango', 'nuremberg', 'karolinen//nuernber', 'g/de/0', '2016-02-27t103917', 'folgenr', '001', 'verfalld2099-12', 'ticket', 'erg/de', '2016-02-27t111418', 'verfalld2020-12', 'fil2103', 'h65214//nuernberg/de', '016-02-27t114326folgenr001', '2502', '1951', 'visa62185021rathaus', '2302', '26,30eur0,0000000000', '1159', '7,99eur0,0000000000', '2202', '6,73eur0,0000000000', '10,00eur0,0000000000', '2102', 'gries', 'deco', 'company//nuernberg/de', '16-02-20t153251', 'ultra-comix', '-02-20t173528', '150251073', '317', 'skyline', 'gaststaette//nuernberg/de', '016-02-18t213358folgenr001', 'visa62185021schnieglin', '140,00eur0,0000000000', '1302', '140,00', 'visa62185021amazonde/bil', '35,99eur0,0000000000', '1402', '10355735', '10,00', 'fuerthermare//fuerth/de', '2016-02-13t', '143500', 'verfalld2020-', '12', '02/16', 'rundfunk', '012016', '-', '032016', 'beitrags', 'nr', '574704817', 'aenderungen', 'ganz', 'bequ', 'em', 'wwwrundfunkbeitragde', '1,01e+13', '0802', 're', '330000099057', '12272140', '5', 'cafe', 'bistro', 'seon//nuernberg/de', '-02-05t230111', '0402', 'lombagine', 'apotheke', 'sebalder', 'h//nuernberg/de', '016-02-03t164807folgenr001', '161080109883418', '34439927', '/', 'ts65354', '05', 'travelsecure', '-auslandsrei', 'sekr', 'ankenvers', 'icherung', '310116-3101', '17', '33,00', '303-7483141-2001136', 'mktplce', 'eu-de', '0164378887929309', '303-0580631-8794708', '2411354884929964', '2016-02-', '01t115514', '2016-02-01t065722', '10103084736793zalando', '303-0084632-5339566', '2410573888643087', 'elv56006917', '3001', '1537', '303-4488385-6169917', '1637782719640441', 'vero', 'moda', '016-01-30t142554folgenr001', 'elv56006916', '2801', '1912', '2501', '1654', 'visa62185021nbg-koestr', '30,00eur0,0000000000', '2101', '30,00', 'n-style//nurnberg/de', '2016-01-23t11', '3213', 'humanic//nuernber/de', '2016-01-23t13', '2317', 'euro-überweisung', '1901', 'visa62185013800-279-6620', '19,95eur0,0000000000', '1801', '12,80eur0,0000000000', '150244534', '116', 'visa62185013nuernberg', '70,00eur0,0000000000', '1601', '10355311', 'visa62185013amazonde', '9,99eur0,0000000000', '1501', 'visa6218501306060876', '1401', '1301', '1101', '320000042615', '2202002154', '14', '0701', 'georg', 'tasche', 'bargeld', 'kartenzahlung', 'neue', 'playstation', 'isabel', 'anna', 'drogeriemarkt', 'sagt', 'michael', 'koffer', 'christina', 'jung', 'gmb', 'rewe', 'aeu', 'nürnberg', 'de', 'marketplace', 'bankhaus', 'august', 'lenz', 'atm', 'vag', 'foodora', 'fein', ',', 'lucas', 'stromio', 'billpay', 'ihs', 'teambank', 'sushi', 'glas', 'gastronomie', '1u1', 'telecom', 'bar', 'e', 'wie', 'h+m', '798', 'vielen', 'dank', 'california', 'hobex', 'ag', 'rent', 'eu', 'issuer', 'aus', 'sparkasse', 'company', 'gastst+veranst', 'digital', 'video', 'fuerthermare', 'ard', 'zdf', 'dradio', 'beitragsservice', 'zalando', 'se', 'seon', 'dankt', 'sarah', 'm¸ller', 'hoefe', 'wuerzburger', 'versicherungs-ag', 'payments', 'europe', 'sca', '69', 'city', 'vr', 'bank', 'eg', 'n-style', 'humanic', 'breuninger', '*', 'deutsche']\n"
     ]
    }
   ],
   "source": [
    "######## Used for statistics ########\n",
    "data_prepared = prepare_data(data)\n",
    "data_text = prepare_text_data(data_prepared)\n",
    "# Remove text features as we use the results from the count vectorizer, also the Id is not required\n",
    "data_prepared = data_prepared.drop([\"Unnamed: 0\", columnname_usage, columnname_target_sender], axis=1)\n",
    "#####################################\n",
    "\n",
    "print(\"\\n#################### Prepared Data #####################\")\n",
    "data_prepared_summary = pd.DataFrame(data_prepared.dtypes)\n",
    "data_prepared_statistics = data_prepared.describe().transpose()\n",
    "data_prepared_summary[\"Null Values\"] = data.isnull().sum()\n",
    "data_prepared_summary = pd.concat([data_prepared_summary,data_prepared_statistics], axis=1)\n",
    "print(data_prepared_summary)\n",
    "\n",
    "print(\"\\n################### Text Statistics ####################\")\n",
    "data_text_summary = pd.DataFrame(data_text.dtypes)\n",
    "data_text_statistics = data_text.describe().transpose()\n",
    "data_text_summary[\"Null Values\"] = data.isnull().sum()\n",
    "data_text_summary = pd.concat([data_text_summary,data_text_statistics], axis=1)\n",
    "print(data_text_summary)\n",
    "\n",
    "print(\"\\n##################### Overall BoW ######################\")\n",
    "print(general_bag_of_words)"
   ],
   "metadata": {
    "collapsed": false,
    "pycharm": {
     "name": "#%%\n"
    }
   }
  },
  {
   "cell_type": "markdown",
   "source": [
    "# Feature Selection"
   ],
   "metadata": {
    "collapsed": false,
    "pycharm": {
     "name": "#%% md\n"
    }
   }
  },
  {
   "cell_type": "code",
   "execution_count": 132,
   "outputs": [
    {
     "name": "stdout",
     "output_type": "stream",
     "text": [
      "Training|Test Size: 167|42\n"
     ]
    }
   ],
   "source": [
    "selected_features = data_final.drop([columnname_label, columnname_orderdate, columnname_valutadate], axis=1)\n",
    "selected_features_labels = data_final[columnname_label]\n",
    "train_data, test_data, train_labels, test_labels = train_test_split(selected_features, selected_features_labels, test_size=1-training_set_size, random_state=345)\n",
    "\n",
    "print(\"Training|Test Size: \" +str(len(train_data)) + \"|\"+str(len(test_data)))"
   ],
   "metadata": {
    "collapsed": false,
    "pycharm": {
     "name": "#%%\n"
    }
   }
  },
  {
   "cell_type": "markdown",
   "source": [
    "# Naive Gaussian Classification\n",
    "## Training"
   ],
   "metadata": {
    "collapsed": false,
    "pycharm": {
     "name": "#%% md\n"
    }
   }
  },
  {
   "cell_type": "code",
   "execution_count": 133,
   "outputs": [
    {
     "data": {
      "text/plain": "GaussianNB()"
     },
     "execution_count": 133,
     "metadata": {},
     "output_type": "execute_result"
    }
   ],
   "source": [
    "gnb_model = GaussianNB()\n",
    "gnb_model.fit(train_data, train_labels)"
   ],
   "metadata": {
    "collapsed": false,
    "pycharm": {
     "name": "#%%\n"
    }
   }
  },
  {
   "cell_type": "markdown",
   "source": [
    "## Evaluation\n",
    "### Accuracy and Class Precision"
   ],
   "metadata": {
    "collapsed": false,
    "pycharm": {
     "name": "#%% md\n"
    }
   }
  },
  {
   "cell_type": "code",
   "execution_count": 134,
   "outputs": [
    {
     "name": "stdout",
     "output_type": "stream",
     "text": [
      "Accuracy:             0.9285714285714286\n",
      "Classification Report:   \n",
      "                   precision    recall  f1-score   support\n",
      "\n",
      "         finance       1.00      1.00      1.00         5\n",
      "          income       1.00      1.00      1.00         6\n",
      "         leisure       0.92      0.92      0.92        12\n",
      "          living       0.75      0.75      0.75         4\n",
      "         private       1.00      1.00      1.00         4\n",
      "standardOfLiving       0.91      0.91      0.91        11\n",
      "\n",
      "        accuracy                           0.93        42\n",
      "       macro avg       0.93      0.93      0.93        42\n",
      "    weighted avg       0.93      0.93      0.93        42\n",
      "\n"
     ]
    }
   ],
   "source": [
    "from sklearn import metrics\n",
    "import matplotlib.pyplot as plt\n",
    "import numpy as np\n",
    "\n",
    "test_prediction = gnb_model.predict(test_data)\n",
    "print(\"Accuracy:            \", metrics.accuracy_score(test_labels,test_prediction))\n",
    "print(\"Classification Report:   \\n\", metrics.classification_report(test_labels,test_prediction))"
   ],
   "metadata": {
    "collapsed": false,
    "pycharm": {
     "name": "#%%\n"
    }
   }
  },
  {
   "cell_type": "markdown",
   "source": [
    "### Confusion Matrix"
   ],
   "metadata": {
    "collapsed": false,
    "pycharm": {
     "name": "#%% md\n"
    }
   }
  },
  {
   "cell_type": "code",
   "execution_count": 135,
   "outputs": [
    {
     "name": "stdout",
     "output_type": "stream",
     "text": [
      "Confusion Matrix:   \n",
      " Predicted         finance  income  leisure  living  private  standardOfLiving\n",
      "Actual                                                                       \n",
      "finance                 5       0        0       0        0                 0\n",
      "income                  0       6        0       0        0                 0\n",
      "leisure                 0       0       11       1        0                 0\n",
      "living                  0       0        0       3        0                 1\n",
      "private                 0       0        0       0        4                 0\n",
      "standardOfLiving        0       0        1       0        0                10\n"
     ]
    },
    {
     "data": {
      "text/plain": "<Figure size 288x288 with 2 Axes>",
      "image/png": "[encoded data removed]"
     },
     "metadata": {
      "needs_background": "light"
     },
     "output_type": "display_data"
    }
   ],
   "source": [
    "confusion_matrix = pd.crosstab(test_labels, test_prediction, rownames=['Actual'], colnames=['Predicted'])\n",
    "print(\"Confusion Matrix:   \\n\", confusion_matrix)\n",
    "\n",
    "def plot_confusion_matrix(df_confusion, title='Prediction Confusion Matrix', cmap=plt.cm.gray_r):\n",
    "    plt.matshow(df_confusion, cmap=cmap) # imshow\n",
    "    plt.title(title)\n",
    "    plt.colorbar()\n",
    "    tick_marks = np.arange(len(df_confusion.columns))\n",
    "    plt.xticks(tick_marks, df_confusion.columns, rotation=90)\n",
    "    plt.yticks(tick_marks, df_confusion.index)\n",
    "    plt.ylabel(df_confusion.index.name)\n",
    "    plt.xlabel(df_confusion.columns.name)\n",
    "\n",
    "plot_confusion_matrix(confusion_matrix,cmap=plt.cm.hot_r)"
   ],
   "metadata": {
    "collapsed": false,
    "pycharm": {
     "name": "#%%\n"
    }
   }
  }
 ],
 "metadata": {
  "kernelspec": {
   "display_name": "Python 3",
   "language": "python",
   "name": "python3"
  },
  "language_info": {
   "codemirror_mode": {
    "name": "ipython",
    "version": 2
   },
   "file_extension": ".py",
   "mimetype": "text/x-python",
   "name": "python",
   "nbconvert_exporter": "python",
   "pygments_lexer": "ipython2",
   "version": "2.7.6"
  }
 },
 "nbformat": 4,
 "nbformat_minor": 0
}